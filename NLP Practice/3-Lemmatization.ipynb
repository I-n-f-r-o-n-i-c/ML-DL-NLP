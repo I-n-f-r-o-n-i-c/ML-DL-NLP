{
 "cells": [
  {
   "cell_type": "markdown",
   "id": "d214bc5a-7999-4ed9-8e8d-6230b4467c25",
   "metadata": {},
   "source": [
    "# Lemmatization"
   ]
  },
  {
   "cell_type": "code",
   "execution_count": 1,
   "id": "6c28a8b1",
   "metadata": {},
   "outputs": [],
   "source": [
    "from nltk.stem import WordNetLemmatizer"
   ]
  },
  {
   "cell_type": "code",
   "execution_count": 2,
   "id": "1b073de0",
   "metadata": {},
   "outputs": [],
   "source": [
    "lemmatizer = WordNetLemmatizer()"
   ]
  },
  {
   "cell_type": "code",
   "execution_count": 3,
   "id": "1dc55659",
   "metadata": {},
   "outputs": [
    {
     "data": {
      "text/plain": [
       "'going'"
      ]
     },
     "execution_count": 3,
     "metadata": {},
     "output_type": "execute_result"
    }
   ],
   "source": [
    "lemmatizer.lemmatize(\"going\")"
   ]
  },
  {
   "cell_type": "code",
   "execution_count": 4,
   "id": "55709bee",
   "metadata": {},
   "outputs": [
    {
     "data": {
      "text/plain": [
       "'go'"
      ]
     },
     "execution_count": 4,
     "metadata": {},
     "output_type": "execute_result"
    }
   ],
   "source": [
    "'''\n",
    "Pos- Noun-n\n",
    "verb-v\n",
    "adjective-a\n",
    "adverb-r\n",
    "'''\n",
    "\n",
    "lemmatizer.lemmatize(\"going\", pos='v')"
   ]
  },
  {
   "cell_type": "code",
   "execution_count": 5,
   "id": "84c425a6",
   "metadata": {},
   "outputs": [],
   "source": [
    "Words = [\"eating\", \"eats\", \"eaten\", \"plays\", \"playing\", \"gone\", \"going\", \"goes\"]"
   ]
  },
  {
   "cell_type": "code",
   "execution_count": 6,
   "id": "39d1195a",
   "metadata": {},
   "outputs": [
    {
     "name": "stdout",
     "output_type": "stream",
     "text": [
      "eating---->eat\n",
      "eats---->eat\n",
      "eaten---->eat\n",
      "plays---->play\n",
      "playing---->play\n",
      "gone---->go\n",
      "going---->go\n",
      "goes---->go\n"
     ]
    }
   ],
   "source": [
    "for word in Words:\n",
    "    print(word + \"---->\" + lemmatizer.lemmatize(word, pos ='v'))"
   ]
  },
  {
   "cell_type": "code",
   "execution_count": 11,
   "id": "052f2493",
   "metadata": {},
   "outputs": [
    {
     "data": {
      "text/plain": [
       "'Sportingly'"
      ]
     },
     "execution_count": 11,
     "metadata": {},
     "output_type": "execute_result"
    }
   ],
   "source": [
    "lemmatizer.lemmatize('Sportingly', pos='v')"
   ]
  },
  {
   "cell_type": "code",
   "execution_count": null,
   "id": "dd8581f6",
   "metadata": {},
   "outputs": [],
   "source": []
  }
 ],
 "metadata": {
  "kernelspec": {
   "display_name": "Python 3 (ipykernel)",
   "language": "python",
   "name": "python3"
  },
  "language_info": {
   "codemirror_mode": {
    "name": "ipython",
    "version": 3
   },
   "file_extension": ".py",
   "mimetype": "text/x-python",
   "name": "python",
   "nbconvert_exporter": "python",
   "pygments_lexer": "ipython3",
   "version": "3.11.7"
  }
 },
 "nbformat": 4,
 "nbformat_minor": 5
}
