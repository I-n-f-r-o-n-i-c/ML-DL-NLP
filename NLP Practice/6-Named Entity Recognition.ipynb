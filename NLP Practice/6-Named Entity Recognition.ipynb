{
 "cells": [
  {
   "cell_type": "code",
   "execution_count": 1,
   "id": "f693b075",
   "metadata": {},
   "outputs": [],
   "source": [
    "import nltk"
   ]
  },
  {
   "cell_type": "code",
   "execution_count": 2,
   "id": "012db453",
   "metadata": {},
   "outputs": [],
   "source": [
    "sentence =\"India, officially the Republic of India, is a country in South Asia. It is the seventh-largest country by area; the most populous country as of June 2023; and from the time of its independence in 1947, the world's most populous democracy.\""
   ]
  },
  {
   "cell_type": "code",
   "execution_count": 3,
   "id": "80deb533",
   "metadata": {},
   "outputs": [],
   "source": [
    "words = nltk.word_tokenize(sentence)"
   ]
  },
  {
   "cell_type": "code",
   "execution_count": 4,
   "id": "2f2e3462",
   "metadata": {},
   "outputs": [],
   "source": [
    "tagged = nltk.pos_tag(words)"
   ]
  },
  {
   "cell_type": "code",
   "execution_count": 5,
   "id": "9122eaee",
   "metadata": {},
   "outputs": [],
   "source": [
    "nltk.ne_chunk(tagged).draw()"
   ]
  },
  {
   "cell_type": "code",
   "execution_count": 6,
   "id": "417b2ef5",
   "metadata": {},
   "outputs": [
    {
     "data": {
      "text/plain": [
       "[('India', 'NNP'),\n",
       " (',', ','),\n",
       " ('officially', 'RB'),\n",
       " ('the', 'DT'),\n",
       " ('Republic', 'NNP'),\n",
       " ('of', 'IN'),\n",
       " ('India', 'NNP'),\n",
       " (',', ','),\n",
       " ('is', 'VBZ'),\n",
       " ('a', 'DT'),\n",
       " ('country', 'NN'),\n",
       " ('in', 'IN'),\n",
       " ('South', 'NNP'),\n",
       " ('Asia', 'NNP'),\n",
       " ('.', '.'),\n",
       " ('It', 'PRP'),\n",
       " ('is', 'VBZ'),\n",
       " ('the', 'DT'),\n",
       " ('seventh-largest', 'JJ'),\n",
       " ('country', 'NN'),\n",
       " ('by', 'IN'),\n",
       " ('area', 'NN'),\n",
       " (';', ':'),\n",
       " ('the', 'DT'),\n",
       " ('most', 'RBS'),\n",
       " ('populous', 'JJ'),\n",
       " ('country', 'NN'),\n",
       " ('as', 'IN'),\n",
       " ('of', 'IN'),\n",
       " ('June', 'NNP'),\n",
       " ('2023', 'CD'),\n",
       " (';', ':'),\n",
       " ('and', 'CC'),\n",
       " ('from', 'IN'),\n",
       " ('the', 'DT'),\n",
       " ('time', 'NN'),\n",
       " ('of', 'IN'),\n",
       " ('its', 'PRP$'),\n",
       " ('independence', 'NN'),\n",
       " ('in', 'IN'),\n",
       " ('1947', 'CD'),\n",
       " (',', ','),\n",
       " ('the', 'DT'),\n",
       " ('world', 'NN'),\n",
       " (\"'s\", 'POS'),\n",
       " ('most', 'RBS'),\n",
       " ('populous', 'JJ'),\n",
       " ('democracy', 'NN'),\n",
       " ('.', '.')]"
      ]
     },
     "execution_count": 6,
     "metadata": {},
     "output_type": "execute_result"
    }
   ],
   "source": [
    "tagged"
   ]
  },
  {
   "cell_type": "code",
   "execution_count": null,
   "id": "338d2e54-3a9c-4fa9-bd89-5993cc7ad362",
   "metadata": {},
   "outputs": [],
   "source": []
  }
 ],
 "metadata": {
  "kernelspec": {
   "display_name": "Python 3 (ipykernel)",
   "language": "python",
   "name": "python3"
  },
  "language_info": {
   "codemirror_mode": {
    "name": "ipython",
    "version": 3
   },
   "file_extension": ".py",
   "mimetype": "text/x-python",
   "name": "python",
   "nbconvert_exporter": "python",
   "pygments_lexer": "ipython3",
   "version": "3.11.7"
  }
 },
 "nbformat": 4,
 "nbformat_minor": 5
}
