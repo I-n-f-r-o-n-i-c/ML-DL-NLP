{
 "cells": [
  {
   "cell_type": "code",
   "execution_count": 1,
   "id": "ebf28be9-bc4a-4a05-a3f2-e3f9f333caa1",
   "metadata": {},
   "outputs": [],
   "source": [
    "import numpy as np\n",
    "from tensorflow.keras.datasets import imdb\n",
    "from tensorflow.keras.preprocessing import sequence\n",
    "from tensorflow.keras.models import load_model"
   ]
  },
  {
   "cell_type": "code",
   "execution_count": 2,
   "id": "7bcac9b3-d96a-41b3-9f67-da2122e278d6",
   "metadata": {},
   "outputs": [],
   "source": [
    "word_index = imdb.get_word_index()\n",
    "reverse_word_index = {value: key for key, value in word_index.items()}"
   ]
  },
  {
   "cell_type": "code",
   "execution_count": 3,
   "id": "1cbe1539-4fdb-42b3-a7e2-df48f08e5b52",
   "metadata": {},
   "outputs": [
    {
     "name": "stderr",
     "output_type": "stream",
     "text": [
      "WARNING:absl:Compiled the loaded model, but the compiled metrics have yet to be built. `model.compile_metrics` will be empty until you train or evaluate the model.\n"
     ]
    }
   ],
   "source": [
    "model=load_model('simple_rnn_imdb.h5')"
   ]
  },
  {
   "cell_type": "code",
   "execution_count": 4,
   "id": "ebd26ee8-163e-4efd-ab64-5c62e9f6ffe2",
   "metadata": {},
   "outputs": [
    {
     "data": {
      "text/html": [
       "<pre style=\"white-space:pre;overflow-x:auto;line-height:normal;font-family:Menlo,'DejaVu Sans Mono',consolas,'Courier New',monospace\"><span style=\"font-weight: bold\">Model: \"sequential_1\"</span>\n",
       "</pre>\n"
      ],
      "text/plain": [
       "\u001b[1mModel: \"sequential_1\"\u001b[0m\n"
      ]
     },
     "metadata": {},
     "output_type": "display_data"
    },
    {
     "data": {
      "text/html": [
       "<pre style=\"white-space:pre;overflow-x:auto;line-height:normal;font-family:Menlo,'DejaVu Sans Mono',consolas,'Courier New',monospace\">┏━━━━━━━━━━━━━━━━━━━━━━━━━━━━━━━━━━━━━━┳━━━━━━━━━━━━━━━━━━━━━━━━━━━━━┳━━━━━━━━━━━━━━━━━┓\n",
       "┃<span style=\"font-weight: bold\"> Layer (type)                         </span>┃<span style=\"font-weight: bold\"> Output Shape                </span>┃<span style=\"font-weight: bold\">         Param # </span>┃\n",
       "┡━━━━━━━━━━━━━━━━━━━━━━━━━━━━━━━━━━━━━━╇━━━━━━━━━━━━━━━━━━━━━━━━━━━━━╇━━━━━━━━━━━━━━━━━┩\n",
       "│ embedding_1 (<span style=\"color: #0087ff; text-decoration-color: #0087ff\">Embedding</span>)              │ (<span style=\"color: #00af00; text-decoration-color: #00af00\">32</span>, <span style=\"color: #00af00; text-decoration-color: #00af00\">50</span>, <span style=\"color: #00af00; text-decoration-color: #00af00\">128</span>)               │       <span style=\"color: #00af00; text-decoration-color: #00af00\">1,280,000</span> │\n",
       "├──────────────────────────────────────┼─────────────────────────────┼─────────────────┤\n",
       "│ simple_rnn_1 (<span style=\"color: #0087ff; text-decoration-color: #0087ff\">SimpleRNN</span>)             │ (<span style=\"color: #00af00; text-decoration-color: #00af00\">32</span>, <span style=\"color: #00af00; text-decoration-color: #00af00\">128</span>)                   │          <span style=\"color: #00af00; text-decoration-color: #00af00\">32,896</span> │\n",
       "├──────────────────────────────────────┼─────────────────────────────┼─────────────────┤\n",
       "│ dense_1 (<span style=\"color: #0087ff; text-decoration-color: #0087ff\">Dense</span>)                      │ (<span style=\"color: #00af00; text-decoration-color: #00af00\">32</span>, <span style=\"color: #00af00; text-decoration-color: #00af00\">1</span>)                     │             <span style=\"color: #00af00; text-decoration-color: #00af00\">129</span> │\n",
       "└──────────────────────────────────────┴─────────────────────────────┴─────────────────┘\n",
       "</pre>\n"
      ],
      "text/plain": [
       "┏━━━━━━━━━━━━━━━━━━━━━━━━━━━━━━━━━━━━━━┳━━━━━━━━━━━━━━━━━━━━━━━━━━━━━┳━━━━━━━━━━━━━━━━━┓\n",
       "┃\u001b[1m \u001b[0m\u001b[1mLayer (type)                        \u001b[0m\u001b[1m \u001b[0m┃\u001b[1m \u001b[0m\u001b[1mOutput Shape               \u001b[0m\u001b[1m \u001b[0m┃\u001b[1m \u001b[0m\u001b[1m        Param #\u001b[0m\u001b[1m \u001b[0m┃\n",
       "┡━━━━━━━━━━━━━━━━━━━━━━━━━━━━━━━━━━━━━━╇━━━━━━━━━━━━━━━━━━━━━━━━━━━━━╇━━━━━━━━━━━━━━━━━┩\n",
       "│ embedding_1 (\u001b[38;5;33mEmbedding\u001b[0m)              │ (\u001b[38;5;34m32\u001b[0m, \u001b[38;5;34m50\u001b[0m, \u001b[38;5;34m128\u001b[0m)               │       \u001b[38;5;34m1,280,000\u001b[0m │\n",
       "├──────────────────────────────────────┼─────────────────────────────┼─────────────────┤\n",
       "│ simple_rnn_1 (\u001b[38;5;33mSimpleRNN\u001b[0m)             │ (\u001b[38;5;34m32\u001b[0m, \u001b[38;5;34m128\u001b[0m)                   │          \u001b[38;5;34m32,896\u001b[0m │\n",
       "├──────────────────────────────────────┼─────────────────────────────┼─────────────────┤\n",
       "│ dense_1 (\u001b[38;5;33mDense\u001b[0m)                      │ (\u001b[38;5;34m32\u001b[0m, \u001b[38;5;34m1\u001b[0m)                     │             \u001b[38;5;34m129\u001b[0m │\n",
       "└──────────────────────────────────────┴─────────────────────────────┴─────────────────┘\n"
      ]
     },
     "metadata": {},
     "output_type": "display_data"
    },
    {
     "data": {
      "text/html": [
       "<pre style=\"white-space:pre;overflow-x:auto;line-height:normal;font-family:Menlo,'DejaVu Sans Mono',consolas,'Courier New',monospace\"><span style=\"font-weight: bold\"> Total params: </span><span style=\"color: #00af00; text-decoration-color: #00af00\">1,313,027</span> (5.01 MB)\n",
       "</pre>\n"
      ],
      "text/plain": [
       "\u001b[1m Total params: \u001b[0m\u001b[38;5;34m1,313,027\u001b[0m (5.01 MB)\n"
      ]
     },
     "metadata": {},
     "output_type": "display_data"
    },
    {
     "data": {
      "text/html": [
       "<pre style=\"white-space:pre;overflow-x:auto;line-height:normal;font-family:Menlo,'DejaVu Sans Mono',consolas,'Courier New',monospace\"><span style=\"font-weight: bold\"> Trainable params: </span><span style=\"color: #00af00; text-decoration-color: #00af00\">1,313,025</span> (5.01 MB)\n",
       "</pre>\n"
      ],
      "text/plain": [
       "\u001b[1m Trainable params: \u001b[0m\u001b[38;5;34m1,313,025\u001b[0m (5.01 MB)\n"
      ]
     },
     "metadata": {},
     "output_type": "display_data"
    },
    {
     "data": {
      "text/html": [
       "<pre style=\"white-space:pre;overflow-x:auto;line-height:normal;font-family:Menlo,'DejaVu Sans Mono',consolas,'Courier New',monospace\"><span style=\"font-weight: bold\"> Non-trainable params: </span><span style=\"color: #00af00; text-decoration-color: #00af00\">0</span> (0.00 B)\n",
       "</pre>\n"
      ],
      "text/plain": [
       "\u001b[1m Non-trainable params: \u001b[0m\u001b[38;5;34m0\u001b[0m (0.00 B)\n"
      ]
     },
     "metadata": {},
     "output_type": "display_data"
    },
    {
     "data": {
      "text/html": [
       "<pre style=\"white-space:pre;overflow-x:auto;line-height:normal;font-family:Menlo,'DejaVu Sans Mono',consolas,'Courier New',monospace\"><span style=\"font-weight: bold\"> Optimizer params: </span><span style=\"color: #00af00; text-decoration-color: #00af00\">2</span> (12.00 B)\n",
       "</pre>\n"
      ],
      "text/plain": [
       "\u001b[1m Optimizer params: \u001b[0m\u001b[38;5;34m2\u001b[0m (12.00 B)\n"
      ]
     },
     "metadata": {},
     "output_type": "display_data"
    }
   ],
   "source": [
    "model.summary()"
   ]
  },
  {
   "cell_type": "code",
   "execution_count": 5,
   "id": "76ce76a6-7d4c-4f85-98d8-4b912a4cd9ca",
   "metadata": {},
   "outputs": [
    {
     "data": {
      "text/plain": [
       "[array([[ 0.00968177,  0.02785295, -0.09400551, ..., -0.02419413,\n",
       "          0.00311394, -0.04907321],\n",
       "        [-0.01494573,  0.09733967,  0.0345259 , ...,  0.06475426,\n",
       "         -0.05275801, -0.04039152],\n",
       "        [ 0.01573062,  0.02775241,  0.0295052 , ..., -0.08877309,\n",
       "         -0.00103407, -0.02262182],\n",
       "        ...,\n",
       "        [ 0.00545063, -0.00143876, -0.04087672, ..., -0.03965142,\n",
       "         -0.02640808, -0.0304369 ],\n",
       "        [ 0.01058759,  0.01300119, -0.03941881, ...,  0.00117061,\n",
       "          0.01638332, -0.02843785],\n",
       "        [ 0.05833387,  0.01434648,  0.10331864, ...,  0.11776575,\n",
       "          0.03202717, -0.06884291]], dtype=float32),\n",
       " array([[-0.04273177, -0.01115529,  0.05413331, ..., -0.06343631,\n",
       "          0.19525781,  0.02432008],\n",
       "        [ 0.01185942, -0.08710799,  0.04348383, ..., -0.0702005 ,\n",
       "         -0.05426022,  0.0803609 ],\n",
       "        [-0.11454086, -0.09198961, -0.05992187, ..., -0.09246781,\n",
       "         -0.08981349,  0.15540828],\n",
       "        ...,\n",
       "        [ 0.09871803, -0.00915542, -0.05924921, ..., -0.04342718,\n",
       "          0.08110983, -0.06837678],\n",
       "        [-0.01557965,  0.14880753, -0.00061566, ..., -0.11323402,\n",
       "          0.04807067,  0.11360464],\n",
       "        [ 0.14831512,  0.01450812, -0.11406143, ..., -0.15138818,\n",
       "          0.04096038, -0.00729793]], dtype=float32),\n",
       " array([[ 0.09383553,  0.03318046, -0.07522685, ...,  0.04710326,\n",
       "         -0.07102656,  0.18160373],\n",
       "        [ 0.03243433, -0.07922456, -0.0069595 , ..., -0.25099236,\n",
       "         -0.23079835, -0.14357875],\n",
       "        [ 0.02302686, -0.0155149 ,  0.154197  , ...,  0.0475393 ,\n",
       "         -0.06664643,  0.09395646],\n",
       "        ...,\n",
       "        [-0.14303179,  0.03546422,  0.0042911 , ...,  0.04944947,\n",
       "         -0.03884094, -0.1024773 ],\n",
       "        [-0.07069675,  0.02150658,  0.03035897, ...,  0.0059729 ,\n",
       "          0.07246357,  0.03184716],\n",
       "        [ 0.04326385,  0.16083102, -0.09148337, ..., -0.04045223,\n",
       "         -0.16147277, -0.01058407]], dtype=float32),\n",
       " array([-2.7333219e-03, -1.7475680e-02, -4.5169019e-03, -2.1102959e-02,\n",
       "        -6.5631517e-03, -4.2003661e-02, -3.7573580e-02, -1.3149392e-02,\n",
       "         8.0560325e-03,  5.2306261e-03, -2.5769083e-02,  1.7215315e-02,\n",
       "        -2.4217203e-02,  1.8928224e-02, -1.2945549e-02,  1.9376520e-02,\n",
       "        -7.2330758e-03, -3.5279129e-02, -1.2214733e-02,  2.9532585e-02,\n",
       "        -4.0880726e-03, -2.0085933e-02, -1.4187214e-02, -1.0027699e-02,\n",
       "        -3.9695162e-02, -9.2826076e-03, -1.7774617e-02, -1.5421334e-02,\n",
       "        -2.5537143e-02, -2.0254279e-02,  6.3002300e-03, -6.0351278e-05,\n",
       "        -7.8446483e-03, -4.6983458e-02, -6.1919075e-03,  3.6556404e-02,\n",
       "        -2.5490463e-02,  1.6161028e-02, -1.1811487e-02,  7.2775986e-03,\n",
       "        -1.5879164e-02, -9.9081462e-03,  3.7656841e-03, -3.7224186e-03,\n",
       "         1.2092726e-02,  7.1377377e-03, -2.1130357e-02,  3.8321197e-02,\n",
       "        -1.6859571e-02, -2.2069428e-03,  1.6931280e-02, -1.0313497e-02,\n",
       "        -2.9268698e-03,  1.9388452e-02, -1.0072999e-02,  1.2101512e-02,\n",
       "         5.3000716e-03, -1.6197666e-03,  3.7497930e-02, -3.1407224e-03,\n",
       "        -2.0643831e-03, -1.3709932e-02, -1.7071310e-02, -1.6903346e-02,\n",
       "        -1.5755657e-02, -1.5892781e-02,  6.6217210e-04, -3.0325986e-02,\n",
       "        -3.2250767e-03, -4.5003188e-03, -5.0732538e-02, -4.8506809e-03,\n",
       "        -3.1686652e-02,  2.7901079e-03,  9.2239650e-03,  3.5466678e-02,\n",
       "         5.4908334e-03, -1.4841303e-02, -8.6239614e-03,  1.3154458e-02,\n",
       "         2.0595754e-03,  1.6143726e-02,  7.7339364e-03,  1.1652977e-04,\n",
       "        -4.6013859e-03, -3.1288890e-03,  1.4587850e-02,  2.6327809e-02,\n",
       "        -1.6903544e-02, -9.7421538e-03, -7.7980924e-03, -2.1409579e-03,\n",
       "        -1.0014951e-02, -2.0343700e-02,  2.5814278e-03, -6.6707155e-04,\n",
       "        -2.0905141e-02, -1.8513085e-02, -9.6344864e-03,  2.0419689e-02,\n",
       "         1.3001694e-02, -7.1617020e-03, -7.1676234e-03, -8.1691006e-04,\n",
       "        -1.6009506e-02, -3.1972393e-02, -1.5774637e-02, -2.9135628e-03,\n",
       "        -4.5697642e-03,  8.0810087e-03, -1.5911328e-02,  4.0456861e-02,\n",
       "        -1.3138968e-02, -2.6268793e-02,  1.3538502e-02,  1.5653127e-03,\n",
       "        -3.3308327e-02, -1.5764991e-02,  6.7943670e-03, -4.2075142e-02,\n",
       "         1.3380538e-03, -6.4878589e-03,  4.3967278e-03,  1.6174553e-02,\n",
       "        -9.6253669e-03,  6.8807078e-04, -1.0801099e-02, -3.7377767e-02],\n",
       "       dtype=float32),\n",
       " array([[ 0.11018077],\n",
       "        [ 0.13055302],\n",
       "        [ 0.05234899],\n",
       "        [ 0.15991955],\n",
       "        [-0.0609329 ],\n",
       "        [ 0.01423115],\n",
       "        [ 0.02958526],\n",
       "        [-0.07156906],\n",
       "        [-0.16947448],\n",
       "        [-0.12806083],\n",
       "        [-0.01039076],\n",
       "        [ 0.1276386 ],\n",
       "        [ 0.09035436],\n",
       "        [-0.31676343],\n",
       "        [ 0.17689937],\n",
       "        [-0.2750245 ],\n",
       "        [ 0.2626613 ],\n",
       "        [ 0.02133979],\n",
       "        [-0.0959141 ],\n",
       "        [ 0.1523293 ],\n",
       "        [-0.17487594],\n",
       "        [ 0.20811245],\n",
       "        [-0.19660589],\n",
       "        [-0.14541663],\n",
       "        [-0.05818396],\n",
       "        [ 0.0258783 ],\n",
       "        [ 0.06721494],\n",
       "        [ 0.26967213],\n",
       "        [-0.09163839],\n",
       "        [ 0.03510772],\n",
       "        [ 0.10908335],\n",
       "        [-0.08155414],\n",
       "        [-0.19365983],\n",
       "        [ 0.11394466],\n",
       "        [ 0.1576981 ],\n",
       "        [-0.11769243],\n",
       "        [ 0.25219744],\n",
       "        [-0.26049188],\n",
       "        [ 0.01801779],\n",
       "        [ 0.24487324],\n",
       "        [ 0.14867352],\n",
       "        [-0.08629927],\n",
       "        [-0.0867605 ],\n",
       "        [ 0.1686358 ],\n",
       "        [-0.3296112 ],\n",
       "        [ 0.09699781],\n",
       "        [ 0.16058423],\n",
       "        [ 0.47434127],\n",
       "        [-0.22036283],\n",
       "        [ 0.00757685],\n",
       "        [ 0.24017432],\n",
       "        [ 0.22433403],\n",
       "        [-0.1961854 ],\n",
       "        [-0.29679042],\n",
       "        [-0.17647806],\n",
       "        [ 0.0189021 ],\n",
       "        [-0.02666723],\n",
       "        [-0.07568681],\n",
       "        [ 0.27325192],\n",
       "        [ 0.22128694],\n",
       "        [-0.00478565],\n",
       "        [-0.08441657],\n",
       "        [ 0.15786442],\n",
       "        [-0.08033939],\n",
       "        [-0.07708663],\n",
       "        [ 0.21771409],\n",
       "        [-0.13846307],\n",
       "        [ 0.21831985],\n",
       "        [ 0.10160283],\n",
       "        [ 0.17726417],\n",
       "        [-0.25685167],\n",
       "        [-0.11489657],\n",
       "        [-0.06145387],\n",
       "        [-0.03867367],\n",
       "        [ 0.27047837],\n",
       "        [-0.02968429],\n",
       "        [ 0.18595815],\n",
       "        [-0.14544387],\n",
       "        [-0.21218298],\n",
       "        [-0.02200968],\n",
       "        [ 0.2247863 ],\n",
       "        [ 0.00991709],\n",
       "        [ 0.19207737],\n",
       "        [ 0.02722004],\n",
       "        [ 0.16109198],\n",
       "        [-0.09072142],\n",
       "        [ 0.1726418 ],\n",
       "        [ 0.33420774],\n",
       "        [ 0.11701713],\n",
       "        [ 0.2033281 ],\n",
       "        [ 0.12371494],\n",
       "        [ 0.27609864],\n",
       "        [-0.16176048],\n",
       "        [ 0.10839266],\n",
       "        [-0.26439825],\n",
       "        [-0.22946638],\n",
       "        [-0.1956536 ],\n",
       "        [-0.191077  ],\n",
       "        [ 0.07460842],\n",
       "        [-0.1404254 ],\n",
       "        [-0.04496701],\n",
       "        [-0.25704736],\n",
       "        [ 0.04775808],\n",
       "        [-0.28718695],\n",
       "        [-0.21697946],\n",
       "        [ 0.21209796],\n",
       "        [ 0.2126878 ],\n",
       "        [-0.03126468],\n",
       "        [-0.20679891],\n",
       "        [ 0.15548672],\n",
       "        [-0.21895455],\n",
       "        [ 0.00369894],\n",
       "        [-0.13174638],\n",
       "        [ 0.06195448],\n",
       "        [ 0.20856345],\n",
       "        [ 0.2756743 ],\n",
       "        [-0.08590332],\n",
       "        [ 0.0170958 ],\n",
       "        [ 0.01709449],\n",
       "        [ 0.0529647 ],\n",
       "        [-0.04448854],\n",
       "        [ 0.09782598],\n",
       "        [-0.35231236],\n",
       "        [ 0.28303185],\n",
       "        [ 0.09800054],\n",
       "        [-0.00551212],\n",
       "        [ 0.10101561],\n",
       "        [ 0.01751686]], dtype=float32),\n",
       " array([0.00726232], dtype=float32)]"
      ]
     },
     "execution_count": 5,
     "metadata": {},
     "output_type": "execute_result"
    }
   ],
   "source": [
    "model.get_weights()"
   ]
  },
  {
   "cell_type": "code",
   "execution_count": 6,
   "id": "f51b6ad8-1a54-454b-82c6-19d315fd91bf",
   "metadata": {},
   "outputs": [],
   "source": [
    "#Helper Functions\n",
    "\n",
    "#Function to decode reviews\n",
    "def decode_review(encoded_review):\n",
    "    return ' '.join([reverse_word_index.get(i-3, '?') for i in encoded_review])\n",
    "\n",
    "#Function to process user input\n",
    "def preprocess_text(text):\n",
    "    words = text.lower().split()\n",
    "    encoded_review = [word_index.get(word,2) + 3 for word in words]\n",
    "    padded_review = sequence.pad_sequences([encoded_review], maxlen=500)\n",
    "    return padded_review"
   ]
  },
  {
   "cell_type": "code",
   "execution_count": 9,
   "id": "96a2a58b-360e-42ad-939f-ad6f5e5f1f30",
   "metadata": {},
   "outputs": [],
   "source": [
    "# Prediction Function\n",
    "\n",
    "def predict_sentiment(review):\n",
    "    preprocessed_input = preprocess_text(review)\n",
    "    prediction = model.predict(preprocessed_input)\n",
    "    sentiment = 'Positive' if prediction[0][0] > 0.5 else 'Negative'\n",
    "    return prediction[0][0], sentiment"
   ]
  },
  {
   "cell_type": "code",
   "execution_count": 10,
   "id": "19527e7d-2924-425b-b95a-518da902a05c",
   "metadata": {},
   "outputs": [
    {
     "name": "stdout",
     "output_type": "stream",
     "text": [
      "\u001b[1m1/1\u001b[0m \u001b[32m━━━━━━━━━━━━━━━━━━━━\u001b[0m\u001b[37m\u001b[0m \u001b[1m0s\u001b[0m 165ms/step\n",
      "Review: The movie was fantastic! The acting was great and the plot was thrilling.\n",
      "Sentiment: 0.8157246112823486\n",
      "Prediction Score: Positive\n"
     ]
    }
   ],
   "source": [
    "# example input\n",
    "example_review = \"The movie was fantastic! The acting was great and the plot was thrilling.\"\n",
    "sentiment, score = predict_sentiment(example_review)\n",
    "print(f'Review: {example_review}')\n",
    "print(f'Sentiment: {sentiment}')\n",
    "print(f'Prediction Score: {score}')"
   ]
  },
  {
   "cell_type": "code",
   "execution_count": null,
   "id": "8028d2d6-521a-49ee-9407-0b07f5753438",
   "metadata": {},
   "outputs": [],
   "source": [
    "import streamlit as st\n",
    "!streamlit run main.py"
   ]
  },
  {
   "cell_type": "code",
   "execution_count": null,
   "id": "531e40ad-b34b-4d83-a7be-a983e745fcec",
   "metadata": {},
   "outputs": [],
   "source": []
  }
 ],
 "metadata": {
  "kernelspec": {
   "display_name": "Python 3 (ipykernel)",
   "language": "python",
   "name": "python3"
  },
  "language_info": {
   "codemirror_mode": {
    "name": "ipython",
    "version": 3
   },
   "file_extension": ".py",
   "mimetype": "text/x-python",
   "name": "python",
   "nbconvert_exporter": "python",
   "pygments_lexer": "ipython3",
   "version": "3.11.9"
  }
 },
 "nbformat": 4,
 "nbformat_minor": 5
}
