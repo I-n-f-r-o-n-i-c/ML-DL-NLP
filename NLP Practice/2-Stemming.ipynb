{
 "cells": [
  {
   "cell_type": "markdown",
   "id": "e27dcf5a-ce50-4d64-bd6f-74a09284a336",
   "metadata": {},
   "source": [
    "# Stemming"
   ]
  },
  {
   "cell_type": "code",
   "execution_count": 1,
   "id": "145aab4b",
   "metadata": {},
   "outputs": [],
   "source": [
    "Words = [\"eating\", \"eats\", \"eaten\", \"plays\", \"playing\", \"gone\", \"going\", \"goes\", \"finally\", \"finalized\", \"programs\"]"
   ]
  },
  {
   "cell_type": "markdown",
   "id": "7d03b1eb",
   "metadata": {},
   "source": [
    "## PorterStemmer"
   ]
  },
  {
   "cell_type": "code",
   "execution_count": 2,
   "id": "49288f9c",
   "metadata": {},
   "outputs": [],
   "source": [
    "from nltk.stem import PorterStemmer"
   ]
  },
  {
   "cell_type": "code",
   "execution_count": 3,
   "id": "55a97459",
   "metadata": {},
   "outputs": [],
   "source": [
    "Stemming = PorterStemmer()"
   ]
  },
  {
   "cell_type": "code",
   "execution_count": 4,
   "id": "45ce5c4f",
   "metadata": {},
   "outputs": [
    {
     "name": "stdout",
     "output_type": "stream",
     "text": [
      "eating---->eat\n",
      "eats---->eat\n",
      "eaten---->eaten\n",
      "plays---->play\n",
      "playing---->play\n",
      "gone---->gone\n",
      "going---->go\n",
      "goes---->goe\n",
      "finally---->final\n",
      "finalized---->final\n",
      "programs---->program\n"
     ]
    }
   ],
   "source": [
    "for word in Words:\n",
    "    print(word + \"---->\" + Stemming.stem(word))"
   ]
  },
  {
   "cell_type": "markdown",
   "id": "a99498de",
   "metadata": {},
   "source": [
    "## RegexpStemmer"
   ]
  },
  {
   "cell_type": "code",
   "execution_count": 5,
   "id": "455efc80",
   "metadata": {},
   "outputs": [],
   "source": [
    "from nltk.stem import RegexpStemmer"
   ]
  },
  {
   "cell_type": "code",
   "execution_count": 6,
   "id": "432ebba7",
   "metadata": {},
   "outputs": [],
   "source": [
    "reg_stemmer = RegexpStemmer('ing$|s$|e$|able$', min=4)"
   ]
  },
  {
   "cell_type": "code",
   "execution_count": 7,
   "id": "ee5ae1d2",
   "metadata": {},
   "outputs": [
    {
     "data": {
      "text/plain": [
       "'track'"
      ]
     },
     "execution_count": 7,
     "metadata": {},
     "output_type": "execute_result"
    }
   ],
   "source": [
    "reg_stemmer.stem('trackable')"
   ]
  },
  {
   "cell_type": "code",
   "execution_count": 8,
   "id": "7ffae37d",
   "metadata": {},
   "outputs": [
    {
     "data": {
      "text/plain": [
       "'eat'"
      ]
     },
     "execution_count": 8,
     "metadata": {},
     "output_type": "execute_result"
    }
   ],
   "source": [
    "reg_stemmer.stem('eating')"
   ]
  },
  {
   "cell_type": "code",
   "execution_count": 9,
   "id": "d3e11e6d",
   "metadata": {},
   "outputs": [
    {
     "data": {
      "text/plain": [
       "'ingeaet'"
      ]
     },
     "execution_count": 9,
     "metadata": {},
     "output_type": "execute_result"
    }
   ],
   "source": [
    "reg_stemmer.stem('ingeaeting')"
   ]
  },
  {
   "cell_type": "markdown",
   "id": "ca207432",
   "metadata": {},
   "source": [
    "## Snowball Stemmer"
   ]
  },
  {
   "cell_type": "code",
   "execution_count": 10,
   "id": "2ce5d96a",
   "metadata": {},
   "outputs": [],
   "source": [
    "from nltk.stem import SnowballStemmer"
   ]
  },
  {
   "cell_type": "code",
   "execution_count": 11,
   "id": "42fea824",
   "metadata": {},
   "outputs": [],
   "source": [
    "sstemmer = SnowballStemmer('english')"
   ]
  },
  {
   "cell_type": "code",
   "execution_count": 12,
   "id": "0d2a38e8",
   "metadata": {},
   "outputs": [
    {
     "name": "stdout",
     "output_type": "stream",
     "text": [
      "eating---->eat\n",
      "eats---->eat\n",
      "eaten---->eaten\n",
      "plays---->play\n",
      "playing---->play\n",
      "gone---->gone\n",
      "going---->go\n",
      "goes---->goe\n",
      "finally---->final\n",
      "finalized---->final\n",
      "programs---->program\n"
     ]
    }
   ],
   "source": [
    "for word in Words:\n",
    "    print(word + '---->' + sstemmer.stem(word))"
   ]
  },
  {
   "cell_type": "code",
   "execution_count": 13,
   "id": "c52006aa",
   "metadata": {},
   "outputs": [
    {
     "data": {
      "text/plain": [
       "('fairli', 'sportingli')"
      ]
     },
     "execution_count": 13,
     "metadata": {},
     "output_type": "execute_result"
    }
   ],
   "source": [
    "Stemming.stem('Fairly'), Stemming.stem('Sportingly')"
   ]
  },
  {
   "cell_type": "code",
   "execution_count": 14,
   "id": "c249cc25",
   "metadata": {},
   "outputs": [
    {
     "data": {
      "text/plain": [
       "('fair', 'sport')"
      ]
     },
     "execution_count": 14,
     "metadata": {},
     "output_type": "execute_result"
    }
   ],
   "source": [
    "sstemmer.stem('Fairly'), sstemmer.stem('Sportingly')"
   ]
  },
  {
   "cell_type": "code",
   "execution_count": null,
   "id": "45448b8e",
   "metadata": {},
   "outputs": [],
   "source": []
  }
 ],
 "metadata": {
  "kernelspec": {
   "display_name": "Python 3 (ipykernel)",
   "language": "python",
   "name": "python3"
  },
  "language_info": {
   "codemirror_mode": {
    "name": "ipython",
    "version": 3
   },
   "file_extension": ".py",
   "mimetype": "text/x-python",
   "name": "python",
   "nbconvert_exporter": "python",
   "pygments_lexer": "ipython3",
   "version": "3.11.7"
  }
 },
 "nbformat": 4,
 "nbformat_minor": 5
}
