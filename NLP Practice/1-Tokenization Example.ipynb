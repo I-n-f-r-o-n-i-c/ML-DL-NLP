{
 "cells": [
  {
   "cell_type": "markdown",
   "id": "4cba4207-61bb-4bb8-953f-88af0875dff6",
   "metadata": {},
   "source": [
    "# Tokenization"
   ]
  },
  {
   "cell_type": "code",
   "execution_count": 8,
   "id": "e040e3f5",
   "metadata": {},
   "outputs": [],
   "source": [
    "from nltk.tokenize import sent_tokenize\n",
    "from nltk.tokenize import word_tokenize\n",
    "from nltk.tokenize import wordpunct_tokenize\n",
    "from nltk.tokenize import TreebankWordTokenizer"
   ]
  },
  {
   "cell_type": "code",
   "execution_count": 2,
   "id": "cb5fc118",
   "metadata": {},
   "outputs": [],
   "source": [
    "Corpus = \"India, officially the Republic of India, is a country in South Asia. It is the seventh-largest country by area; the most populous country as of June 2023; and from the time of its independence in 1947, the world's most populous democracy.\""
   ]
  },
  {
   "cell_type": "code",
   "execution_count": 3,
   "id": "a8a6eb9e",
   "metadata": {},
   "outputs": [
    {
     "data": {
      "text/plain": [
       "\"India, officially the Republic of India, is a country in South Asia. It is the seventh-largest country by area; the most populous country as of June 2023; and from the time of its independence in 1947, the world's most populous democracy.\""
      ]
     },
     "execution_count": 3,
     "metadata": {},
     "output_type": "execute_result"
    }
   ],
   "source": [
    "Corpus"
   ]
  },
  {
   "cell_type": "code",
   "execution_count": 4,
   "id": "e04cf2e7",
   "metadata": {},
   "outputs": [],
   "source": [
    "documents = sent_tokenize(Corpus)"
   ]
  },
  {
   "cell_type": "code",
   "execution_count": 5,
   "id": "87a14507",
   "metadata": {},
   "outputs": [
    {
     "data": {
      "text/plain": [
       "['India, officially the Republic of India, is a country in South Asia.',\n",
       " \"It is the seventh-largest country by area; the most populous country as of June 2023; and from the time of its independence in 1947, the world's most populous democracy.\"]"
      ]
     },
     "execution_count": 5,
     "metadata": {},
     "output_type": "execute_result"
    }
   ],
   "source": [
    "documents"
   ]
  },
  {
   "cell_type": "code",
   "execution_count": 6,
   "id": "be4a4a4a",
   "metadata": {},
   "outputs": [
    {
     "name": "stdout",
     "output_type": "stream",
     "text": [
      "['India', ',', 'officially', 'the', 'Republic', 'of', 'India', ',', 'is', 'a', 'country', 'in', 'South', 'Asia', '.', 'It', 'is', 'the', 'seventh-largest', 'country', 'by', 'area', ';', 'the', 'most', 'populous', 'country', 'as', 'of', 'June', '2023', ';', 'and', 'from', 'the', 'time', 'of', 'its', 'independence', 'in', '1947', ',', 'the', 'world', \"'s\", 'most', 'populous', 'democracy', '.']\n"
     ]
    }
   ],
   "source": [
    "print(word_tokenize(Corpus))"
   ]
  },
  {
   "cell_type": "code",
   "execution_count": 7,
   "id": "38c82767",
   "metadata": {},
   "outputs": [
    {
     "name": "stdout",
     "output_type": "stream",
     "text": [
      "['India', ',', 'officially', 'the', 'Republic', 'of', 'India', ',', 'is', 'a', 'country', 'in', 'South', 'Asia', '.']\n",
      "['It', 'is', 'the', 'seventh-largest', 'country', 'by', 'area', ';', 'the', 'most', 'populous', 'country', 'as', 'of', 'June', '2023', ';', 'and', 'from', 'the', 'time', 'of', 'its', 'independence', 'in', '1947', ',', 'the', 'world', \"'s\", 'most', 'populous', 'democracy', '.']\n"
     ]
    }
   ],
   "source": [
    "for sentences in documents:\n",
    "    print(word_tokenize(sentences))"
   ]
  },
  {
   "cell_type": "code",
   "execution_count": 7,
   "id": "842f530a",
   "metadata": {},
   "outputs": [
    {
     "name": "stdout",
     "output_type": "stream",
     "text": [
      "['India', ',', 'officially', 'the', 'Republic', 'of', 'India', ',', 'is', 'a', 'country', 'in', 'South', 'Asia', '.', 'It', 'is', 'the', 'seventh', '-', 'largest', 'country', 'by', 'area', ';', 'the', 'most', 'populous', 'country', 'as', 'of', 'June', '2023', ';', 'and', 'from', 'the', 'time', 'of', 'its', 'independence', 'in', '1947', ',', 'the', 'world', \"'\", 's', 'most', 'populous', 'democracy', '.']\n"
     ]
    }
   ],
   "source": [
    "print(wordpunct_tokenize(Corpus))"
   ]
  },
  {
   "cell_type": "code",
   "execution_count": 9,
   "id": "ae2419ed",
   "metadata": {},
   "outputs": [
    {
     "name": "stdout",
     "output_type": "stream",
     "text": [
      "['India', ',', 'officially', 'the', 'Republic', 'of', 'India', ',', 'is', 'a', 'country', 'in', 'South', 'Asia', '.']\n",
      "['It', 'is', 'the', 'seventh', '-', 'largest', 'country', 'by', 'area', ';', 'the', 'most', 'populous', 'country', 'as', 'of', 'June', '2023', ';', 'and', 'from', 'the', 'time', 'of', 'its', 'independence', 'in', '1947', ',', 'the', 'world', \"'\", 's', 'most', 'populous', 'democracy', '.']\n"
     ]
    }
   ],
   "source": [
    "for sentences in documents:\n",
    "    print(wordpunct_tokenize(sentences))"
   ]
  },
  {
   "cell_type": "code",
   "execution_count": null,
   "id": "413333bd",
   "metadata": {},
   "outputs": [],
   "source": [
    " tokenizer = TreebankWord"
   ]
  }
 ],
 "metadata": {
  "kernelspec": {
   "display_name": "Python 3 (ipykernel)",
   "language": "python",
   "name": "python3"
  },
  "language_info": {
   "codemirror_mode": {
    "name": "ipython",
    "version": 3
   },
   "file_extension": ".py",
   "mimetype": "text/x-python",
   "name": "python",
   "nbconvert_exporter": "python",
   "pygments_lexer": "ipython3",
   "version": "3.11.7"
  }
 },
 "nbformat": 4,
 "nbformat_minor": 5
}
