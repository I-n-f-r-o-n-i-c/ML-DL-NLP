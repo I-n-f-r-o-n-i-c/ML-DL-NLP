{
 "cells": [
  {
   "cell_type": "code",
   "execution_count": 1,
   "id": "e96797d9",
   "metadata": {},
   "outputs": [],
   "source": [
    "import re"
   ]
  },
  {
   "cell_type": "code",
   "execution_count": 2,
   "id": "bba16ecb",
   "metadata": {},
   "outputs": [
    {
     "name": "stdout",
     "output_type": "stream",
     "text": [
      "['>Venues', '>Marketing', '>medalists', '>Controversies', '>Paralympics', '>snowboarding', '>Netherlands', '>Norway', '>References', '>edit', '>Norway', '>Germany', '>Canada', '>Netherlands', '>Japan', '>Italy', '>Belarus', '>China', '>Slovakia', '>Slovenia', '>Belgium', '>Spain', '>Kazakhstan', '>1964', '>1968', '>1972', '>1992', '>1996', '>2000']\n"
     ]
    }
   ],
   "source": [
    "str=\"\"\"<br />\n",
    ">Venues<br />\n",
    ">Marketing<br />\n",
    ">medalists<br />\n",
    ">Controversies<br />\n",
    ">Paralympics<br />\n",
    ">snowboarding<br />\n",
    ">[1]<br />\n",
    ">Netherlands<br />\n",
    ">[2]<br />\n",
    ">Norway<br />\n",
    ">[10]<br />\n",
    ">[11]<br />\n",
    ">References<br />\n",
    ">edit<br />\n",
    ">[12]<br />\n",
    ">Norway<br />\n",
    ">Germany<br />\n",
    ">Canada<br />\n",
    ">Netherlands<br />\n",
    ">Japan<br />\n",
    ">Italy<br />\n",
    ">Belarus<br />\n",
    ">China<br />\n",
    ">Slovakia<br />\n",
    "<$#%#$%<br />\n",
    "<#$#$$<br />\n",
    "<**&&^^ >Slovenia<br />\n",
    ">Belgium<br />\n",
    ">Spain<br />\n",
    ">Kazakhstan<br />\n",
    ">[15]<br />\n",
    ">1964<br />\n",
    ">1968<br />\n",
    ">1972<br />\n",
    ">1992<br />\n",
    ">1996<br />\n",
    ">2000<br />\"\"\"\n",
    "\n",
    "pattern = \">[a-zA-Z]+|>[\\d]+\"\n",
    "data=re.findall(pattern, str)\n",
    "print(data)\n"
   ]
  },
  {
   "cell_type": "code",
   "execution_count": 3,
   "id": "e57dd11b",
   "metadata": {},
   "outputs": [
    {
     "name": "stdout",
     "output_type": "stream",
     "text": [
      "['franky@google', 'sinatra123@yahoo']\n"
     ]
    }
   ],
   "source": [
    "str=\"The advancements in biomarine studies franky@google.com with the investments necessary and Davos sinatra123@yahoo.com Then The New Yorker article on wind farms\"\n",
    "#Type your answer here.<br />\n",
    "pattern = \"[a-z0-9A-Z]*@[a-zA-Z0-9]*[a-zA-Z]*\"\n",
    "emails=re.findall(pattern, str)\n",
    "print(emails)"
   ]
  },
  {
   "cell_type": "code",
   "execution_count": 4,
   "id": "9c5b9105",
   "metadata": {},
   "outputs": [
    {
     "name": "stdout",
     "output_type": "stream",
     "text": [
      "['franky@', 'sinatra123@']\n"
     ]
    }
   ],
   "source": [
    "str=\"The advancements in biomarine studies franky@google.com with the investments necessary and Davos sinatra123@yahoo.com Then The New Yorker article on wind farms\"\n",
    "#Type your answer here.<br />\n",
    "pattern = \"([a-z0-9A-Z]*@)[a-zA-Z0-9]*[a-zA-Z]*\"\n",
    "emails=re.findall(pattern, str)\n",
    "print(emails)"
   ]
  },
  {
   "cell_type": "code",
   "execution_count": null,
   "id": "8aa525ed",
   "metadata": {},
   "outputs": [],
   "source": []
  }
 ],
 "metadata": {
  "kernelspec": {
   "display_name": "Python 3 (ipykernel)",
   "language": "python",
   "name": "python3"
  },
  "language_info": {
   "codemirror_mode": {
    "name": "ipython",
    "version": 3
   },
   "file_extension": ".py",
   "mimetype": "text/x-python",
   "name": "python",
   "nbconvert_exporter": "python",
   "pygments_lexer": "ipython3",
   "version": "3.11.5"
  }
 },
 "nbformat": 4,
 "nbformat_minor": 5
}
